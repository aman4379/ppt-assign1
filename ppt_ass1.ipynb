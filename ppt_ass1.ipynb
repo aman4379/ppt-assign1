{
 "cells": [
  {
   "cell_type": "markdown",
   "id": "718e3d62-5033-4e34-9804-29e8410c8017",
   "metadata": {},
   "source": [
    "**Q1.** Given an array of integers nums and an integer target, return indices of the two numbers such that they add up to target.\n",
    "\n",
    "You may assume that each input would have exactly one solution, and you may not use the same element twice.\n",
    "\n",
    "You can return the answer in any order.\n",
    "\n",
    "**Example:**\n",
    "Input: nums = [2,7,11,15], target = 9\n",
    "Output0 [0,1]\n",
    "\n",
    "**Explanation:** Because nums[0] + nums[1] == 9, we return [0, 1]"
   ]
  },
  {
   "cell_type": "code",
   "execution_count": null,
   "id": "403341b8-e35a-4be2-a54a-d847065633f2",
   "metadata": {},
   "outputs": [],
   "source": [
    "class Solution {\n",
    "    public int[] twoSum(int[] nums, int target) {\n",
    "        Map<Integer,Integer> hsh = new HashMap<>();\n",
    "        int val;\n",
    "        for(int i=0;i<nums.length;i++){\n",
    "            val = target-nums[i];\n",
    "            if(hsh.containsKey(val)){\n",
    "                return new int[]{hsh.get(val),i};\n",
    "            }\n",
    "            hsh.put(nums[i],i);\n",
    "        }\n",
    "        return new int[]{};\n",
    "    }\n",
    "}"
   ]
  },
  {
   "cell_type": "markdown",
   "id": "bf2291a3-d6b7-487a-a157-9d972e6e65e0",
   "metadata": {},
   "source": [
    "\n",
    "**Q2.** Given an integer array nums and an integer val, remove all occurrences of val in nums in-place. The order of the elements may be changed. Then return the number of elements in nums which are not equal to val.\n",
    "\n",
    "Consider the number of elements in nums which are not equal to val be k, to get accepted, you need to do the following things:\n",
    "\n",
    "- Change the array nums such that the first k elements of nums contain the elements which are not equal to val. The remaining elements of nums are not important as well as the size of nums.\n",
    "- Return k.\n",
    "\n",
    "**Example :**\n",
    "Input: nums = [3,2,2,3], val = 3\n",
    "Output: 2, nums = [2,2,_*,_*]                                                                               \n",
    "**Explanation:** Your function should return k = 2, with the first two elements of nums being 2. It does not matter what you leave beyond the returned k (hence they are underscores)"
   ]
  },
  {
   "cell_type": "code",
   "execution_count": null,
   "id": "8c4d99fa-5e8b-4bec-a2b8-6d0cb7ffcb22",
   "metadata": {},
   "outputs": [],
   "source": [
    "class Solution {\n",
    "    public static void swap(int[] nums,int k,int l){\n",
    "        int temp = nums[k];\n",
    "        nums[k] = nums[l];\n",
    "        nums[l] = temp;\n",
    "    }\n",
    "    public int removeElement(int[] nums, int val) {\n",
    "        int n = nums.length;\n",
    "        int l1=0,l2=n-1,k = 0;\n",
    "        while(k<=l2){\n",
    "            if(nums[k]==val){\n",
    "                swap(nums,k,l2);\n",
    "                l2--;\n",
    "            }\n",
    "            else{\n",
    "                k++;\n",
    "                l1++;\n",
    "            }\n",
    "        }\n",
    "        return l1;\n",
    "    }\n",
    "}"
   ]
  },
  {
   "cell_type": "markdown",
   "id": "4946b568-478d-4b5f-8f1d-8dd166248a65",
   "metadata": {},
   "source": [
    "\n",
    "**Q3** Given a sorted array of distinct integers and a target value, return the index if the target is found. If not, return the index where it would be if it were inserted in order.\n",
    "\n",
    "You must write an algorithm with O(log n) runtime complexity.\n",
    "\n",
    "**Example 1:**\n",
    "Input: nums = [1,3,5,6], target = 5\n",
    "\n",
    "Output: 2\n",
    "\n",
    "</aside>"
   ]
  },
  {
   "cell_type": "code",
   "execution_count": null,
   "id": "e6a834a0-2c22-4657-929f-b0b60a74839f",
   "metadata": {},
   "outputs": [],
   "source": [
    "class Solution {\n",
    "    public int searchInsert(int[] nums, int target) {\n",
    "        int st=0,en = nums.length-1;\n",
    "        int ans = nums.length;\n",
    "        while(st<=en){\n",
    "            int mid = (st+en)/2; \n",
    "            if(nums[mid] == target){\n",
    "                return mid;\n",
    "            }\n",
    "            else if(nums[mid]<target){\n",
    "                st = mid+1;\n",
    "            }\n",
    "            else{\n",
    "                ans = mid;\n",
    "                en = mid-1;\n",
    "            }\n",
    "        }\n",
    "       return ans;\n",
    "    }\n",
    "}"
   ]
  },
  {
   "cell_type": "markdown",
   "id": "52476820-b288-4be8-859c-c32bcc7ef158",
   "metadata": {},
   "source": [
    "**Q4.** You are given a large integer represented as an integer array digits, where each digits[i] is the ith digit of the integer. The digits are ordered from most significant to least significant in left-to-right order. The large integer does not contain any leading 0's.\n",
    "\n",
    "Increment the large integer by one and return the resulting array of digits.\n",
    "\n",
    "**Example 1:**\n",
    "Input: digits = [1,2,3]\n",
    "Output: [1,2,4]\n",
    "\n",
    "**Explanation:** The array represents the integer 123.\n",
    "\n",
    "Incrementing by one gives 123 + 1 = 124.\n",
    "Thus, the result should be [1,2,4].\n",
    "\n",
    "</aside>"
   ]
  },
  {
   "cell_type": "code",
   "execution_count": null,
   "id": "035225db-4eee-465e-8665-e012cab44d4f",
   "metadata": {},
   "outputs": [],
   "source": [
    "class Solution {\n",
    "    public int[] plusOne(int[] digits) {\n",
    "        for(int i=digits.length-1;i>=0;i--){\n",
    "            if(digits[i]!=9){\n",
    "                digits[i]+=1;\n",
    "                return digits;\n",
    "            }\n",
    "            else{\n",
    "                digits[i]=0;\n",
    "                if((i-1)<0){\n",
    "                    int arr[] = new int[digits.length+1];\n",
    "                    for(int j=arr.length-1;j>0;j--){\n",
    "                        arr[j]=digits[j-1];\n",
    "                    }\n",
    "                    arr[0]=1;\n",
    "                    return arr;\n",
    "                }\n",
    "            }\n",
    "        }\n",
    "        return digits;\n",
    "    }\n",
    "}"
   ]
  },
  {
   "cell_type": "markdown",
   "id": "caaf29b4-8954-4aa5-95db-fd932cdd6d0c",
   "metadata": {},
   "source": [
    "**Q5.** You are given two integer arrays nums1 and nums2, sorted in non-decreasing order, and two integers m and n, representing the number of elements in nums1 and nums2 respectively.\n",
    "\n",
    "Merge nums1 and nums2 into a single array sorted in non-decreasing order.\n",
    "\n",
    "The final sorted array should not be returned by the function, but instead be stored inside the array nums1. To accommodate this, nums1 has a length of m + n, where the first m elements denote the elements that should be merged, and the last n elements are set to 0 and should be ignored. nums2 has a length of n.\n",
    "\n",
    "**Example 1:**\n",
    "Input: nums1 = [1,2,3,0,0,0], m = 3, nums2 = [2,5,6], n = 3\n",
    "Output: [1,2,2,3,5,6]\n",
    "\n",
    "**Explanation:** The arrays we are merging are [1,2,3] and [2,5,6].\n",
    "The result of the merge is [1,2,2,3,5,6] with the underlined elements coming from nums1.\n",
    "\n",
    "</aside>"
   ]
  },
  {
   "cell_type": "code",
   "execution_count": null,
   "id": "70b71a93-16e0-4dc0-9137-40cbf1ccbf5c",
   "metadata": {},
   "outputs": [],
   "source": [
    "int i=m-1;\n",
    "         int j=n-1;\n",
    "         int k=nums1.length-1;\n",
    "         while(j>=0){\n",
    "             if(i>=0 && nums1[i]>nums2[j]){\n",
    "                 nums1[k]=nums1[i];\n",
    "                 k--; \n",
    "                 i--;\n",
    "                 }\n",
    "            else{\n",
    "                nums1[k] = nums2[j];\n",
    "                k--; \n",
    "                j--;\n",
    "            }\n",
    "         }"
   ]
  },
  {
   "cell_type": "markdown",
   "id": "9d4b9dc2-5f94-4ca3-ad78-25f58ddbb9cf",
   "metadata": {},
   "source": [
    "**Q6.** Given an integer array nums, return true if any value appears at least twice in the array, and return false if every element is distinct.\n",
    "\n",
    "**Example 1:**\n",
    "Input: nums = [1,2,3,1]\n",
    "\n",
    "Output: true\n",
    "\n",
    "</aside>"
   ]
  },
  {
   "cell_type": "code",
   "execution_count": null,
   "id": "17a78680-9f3f-4921-bbce-6a953c8f3915",
   "metadata": {},
   "outputs": [],
   "source": [
    "class Solution {\n",
    "    public boolean containsDuplicate(int[] nums) {\n",
    "       HashSet<Integer> hsh = new HashSet<Integer>();\n",
    "       for(int i=0;i<nums.length;i++){\n",
    "           if(hsh.contains(nums[i])){\n",
    "               return true;\n",
    "           }\n",
    "           else{\n",
    "               hsh.add(nums[i]);\n",
    "           }\n",
    "       }\n",
    "       return false;\n",
    "    }\n",
    "}"
   ]
  },
  {
   "cell_type": "markdown",
   "id": "b83e5ced-842f-4b19-983a-9a2295b976b4",
   "metadata": {},
   "source": [
    "**Q7.** Given an integer array nums, move all 0's to the end of it while maintaining the relative order of the nonzero elements.\n",
    "\n",
    "Note that you must do this in-place without making a copy of the array.\n",
    "\n",
    "**Example 1:**\n",
    "Input: nums = [0,1,0,3,12]\n",
    "Output: [1,3,12,0,0]\n",
    "\n",
    "</aside>"
   ]
  },
  {
   "cell_type": "code",
   "execution_count": null,
   "id": "e06a21dd-db4c-42f2-ab40-cf7f6d63b3e9",
   "metadata": {},
   "outputs": [],
   "source": [
    "int i = 0; \n",
    "        for (int num:nums){\n",
    "            if(num != 0){\n",
    "                nums[i] = num;\n",
    "                i++;\n",
    "            }\n",
    "        }\n",
    "        while(i<nums.length){\n",
    "            nums[i] = 0;\n",
    "            i++;\n",
    "        }"
   ]
  },
  {
   "cell_type": "markdown",
   "id": "d18b3707-e1db-4c52-a26b-36b4cf3e82f2",
   "metadata": {},
   "source": [
    "**Q8.** You have a set of integers s, which originally contains all the numbers from 1 to n. Unfortunately, due to some error, one of the numbers in s got duplicated to another number in the set, which results in repetition of one number and loss of another number.\n",
    "\n",
    "You are given an integer array nums representing the data status of this set after the error.\n",
    "\n",
    "Find the number that occurs twice and the number that is missing and return them in the form of an array.\n",
    "\n",
    "**Example 1:**\n",
    "Input: nums = [1,2,2,4]\n",
    "Output: [2,3]"
   ]
  },
  {
   "cell_type": "code",
   "execution_count": null,
   "id": "e2df0084-567b-4028-8a15-5f229543eaab",
   "metadata": {},
   "outputs": [],
   "source": [
    "class Solution {\n",
    "    public int[] findErrorNums(int[] nums) {\n",
    "        int sum=0,sqsm=0;\n",
    "        for(int i=0;i<nums.length;i++){\n",
    "            sum+=nums[i];\n",
    "            sqsm = sqsm+(nums[i]*nums[i]);\n",
    "        }\n",
    "        int k=nums[0],l=k+nums.length-1;\n",
    "        int rsum=((l*(l+1))/2)-(((k-1)*k)/2);\n",
    "        int rsqsm = (l*(l+1)*(2*l+1)/6)-((k-1)*k*(2*(k-1)+1)/6);\n",
    "        int a = rsum-sum;\n",
    "        int b = rsqsm-sqsm;\n",
    "        int arr[] = new int[2];\n",
    "        arr[1]= (a+b)/2;\n",
    "        arr[0] = arr[1]-a;\n",
    "        return arr;\n",
    "    }\n",
    "}"
   ]
  }
 ],
 "metadata": {
  "kernelspec": {
   "display_name": "Python 3 (ipykernel)",
   "language": "python",
   "name": "python3"
  },
  "language_info": {
   "codemirror_mode": {
    "name": "ipython",
    "version": 3
   },
   "file_extension": ".py",
   "mimetype": "text/x-python",
   "name": "python",
   "nbconvert_exporter": "python",
   "pygments_lexer": "ipython3",
   "version": "3.10.8"
  }
 },
 "nbformat": 4,
 "nbformat_minor": 5
}
